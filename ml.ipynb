{
 "cells": [
  {
   "cell_type": "markdown",
   "metadata": {},
   "source": [
    "# Breast cancer diagnostic"
   ]
  },
  {
   "cell_type": "code",
   "execution_count": 2,
   "metadata": {},
   "outputs": [],
   "source": [
    "# import class:\r\n",
    "import csv\r\n",
    "import numpy as np\r\n",
    "import pandas as pd\r\n",
    "import seaborn as sns\r\n",
    "import matplotlib.pyplot as plt\r\n",
    "from sklearn.linear_model import LinearRegression\r\n",
    "from sklearn.linear_model import LogisticRegression\r\n",
    "from sklearn.preprocessing import StandardScaler\r\n",
    "from sklearn.model_selection import train_test_split\r\n",
    "from sklearn import metrics\r\n",
    "from sklearn.neighbors import KNeighborsClassifier\r\n",
    "from sklearn.naive_bayes import GaussianNB\r\n",
    "from sklearn import svm\r\n",
    "from sklearn.feature_selection import SelectFromModel\r\n",
    "from sklearn.feature_selection import SelectKBest\r\n",
    "from sklearn.feature_selection import mutual_info_classif\r\n",
    "from sklearn.feature_selection import SelectFromModel\r\n",
    "from sklearn.svm import LinearSVC\r\n",
    "from sklearn.metrics import fbeta_score\r\n",
    "from sklearn.ensemble import AdaBoostClassifier"
   ]
  },
  {
   "cell_type": "markdown",
   "metadata": {},
   "source": [
    "# Load and proccess the data"
   ]
  },
  {
   "cell_type": "code",
   "execution_count": 3,
   "metadata": {},
   "outputs": [
    {
     "name": "stdout",
     "output_type": "stream",
     "text": [
      "malignant count:  357  ( 62.7 %) \n",
      "benign count:  212  ( 37.3 %)\n"
     ]
    },
    {
     "data": {
      "text/html": "<div>\n<style scoped>\n    .dataframe tbody tr th:only-of-type {\n        vertical-align: middle;\n    }\n\n    .dataframe tbody tr th {\n        vertical-align: top;\n    }\n\n    .dataframe thead th {\n        text-align: right;\n    }\n</style>\n<table border=\"1\" class=\"dataframe\">\n  <thead>\n    <tr style=\"text-align: right;\">\n      <th></th>\n      <th>diagnosis</th>\n      <th>radius_mean</th>\n      <th>texture_mean</th>\n      <th>perimeter_mean</th>\n      <th>area_mean</th>\n      <th>smoothness_mean</th>\n      <th>compactness_mean</th>\n      <th>concavity_mean</th>\n      <th>concave points_mean</th>\n      <th>symmetry_mean</th>\n      <th>...</th>\n      <th>radius_worst</th>\n      <th>texture_worst</th>\n      <th>perimeter_worst</th>\n      <th>area_worst</th>\n      <th>smoothness_worst</th>\n      <th>compactness_worst</th>\n      <th>concavity_worst</th>\n      <th>concave points_worst</th>\n      <th>symmetry_worst</th>\n      <th>fractal_dimension_worst</th>\n    </tr>\n  </thead>\n  <tbody>\n    <tr>\n      <th>0</th>\n      <td>1</td>\n      <td>17.99</td>\n      <td>10.38</td>\n      <td>122.80</td>\n      <td>1001.0</td>\n      <td>0.11840</td>\n      <td>0.27760</td>\n      <td>0.30010</td>\n      <td>0.14710</td>\n      <td>0.2419</td>\n      <td>...</td>\n      <td>25.380</td>\n      <td>17.33</td>\n      <td>184.60</td>\n      <td>2019.0</td>\n      <td>0.16220</td>\n      <td>0.66560</td>\n      <td>0.7119</td>\n      <td>0.2654</td>\n      <td>0.4601</td>\n      <td>0.11890</td>\n    </tr>\n    <tr>\n      <th>1</th>\n      <td>1</td>\n      <td>20.57</td>\n      <td>17.77</td>\n      <td>132.90</td>\n      <td>1326.0</td>\n      <td>0.08474</td>\n      <td>0.07864</td>\n      <td>0.08690</td>\n      <td>0.07017</td>\n      <td>0.1812</td>\n      <td>...</td>\n      <td>24.990</td>\n      <td>23.41</td>\n      <td>158.80</td>\n      <td>1956.0</td>\n      <td>0.12380</td>\n      <td>0.18660</td>\n      <td>0.2416</td>\n      <td>0.1860</td>\n      <td>0.2750</td>\n      <td>0.08902</td>\n    </tr>\n    <tr>\n      <th>2</th>\n      <td>1</td>\n      <td>19.69</td>\n      <td>21.25</td>\n      <td>130.00</td>\n      <td>1203.0</td>\n      <td>0.10960</td>\n      <td>0.15990</td>\n      <td>0.19740</td>\n      <td>0.12790</td>\n      <td>0.2069</td>\n      <td>...</td>\n      <td>23.570</td>\n      <td>25.53</td>\n      <td>152.50</td>\n      <td>1709.0</td>\n      <td>0.14440</td>\n      <td>0.42450</td>\n      <td>0.4504</td>\n      <td>0.2430</td>\n      <td>0.3613</td>\n      <td>0.08758</td>\n    </tr>\n    <tr>\n      <th>3</th>\n      <td>1</td>\n      <td>11.42</td>\n      <td>20.38</td>\n      <td>77.58</td>\n      <td>386.1</td>\n      <td>0.14250</td>\n      <td>0.28390</td>\n      <td>0.24140</td>\n      <td>0.10520</td>\n      <td>0.2597</td>\n      <td>...</td>\n      <td>14.910</td>\n      <td>26.50</td>\n      <td>98.87</td>\n      <td>567.7</td>\n      <td>0.20980</td>\n      <td>0.86630</td>\n      <td>0.6869</td>\n      <td>0.2575</td>\n      <td>0.6638</td>\n      <td>0.17300</td>\n    </tr>\n    <tr>\n      <th>4</th>\n      <td>1</td>\n      <td>20.29</td>\n      <td>14.34</td>\n      <td>135.10</td>\n      <td>1297.0</td>\n      <td>0.10030</td>\n      <td>0.13280</td>\n      <td>0.19800</td>\n      <td>0.10430</td>\n      <td>0.1809</td>\n      <td>...</td>\n      <td>22.540</td>\n      <td>16.67</td>\n      <td>152.20</td>\n      <td>1575.0</td>\n      <td>0.13740</td>\n      <td>0.20500</td>\n      <td>0.4000</td>\n      <td>0.1625</td>\n      <td>0.2364</td>\n      <td>0.07678</td>\n    </tr>\n    <tr>\n      <th>...</th>\n      <td>...</td>\n      <td>...</td>\n      <td>...</td>\n      <td>...</td>\n      <td>...</td>\n      <td>...</td>\n      <td>...</td>\n      <td>...</td>\n      <td>...</td>\n      <td>...</td>\n      <td>...</td>\n      <td>...</td>\n      <td>...</td>\n      <td>...</td>\n      <td>...</td>\n      <td>...</td>\n      <td>...</td>\n      <td>...</td>\n      <td>...</td>\n      <td>...</td>\n      <td>...</td>\n    </tr>\n    <tr>\n      <th>564</th>\n      <td>1</td>\n      <td>21.56</td>\n      <td>22.39</td>\n      <td>142.00</td>\n      <td>1479.0</td>\n      <td>0.11100</td>\n      <td>0.11590</td>\n      <td>0.24390</td>\n      <td>0.13890</td>\n      <td>0.1726</td>\n      <td>...</td>\n      <td>25.450</td>\n      <td>26.40</td>\n      <td>166.10</td>\n      <td>2027.0</td>\n      <td>0.14100</td>\n      <td>0.21130</td>\n      <td>0.4107</td>\n      <td>0.2216</td>\n      <td>0.2060</td>\n      <td>0.07115</td>\n    </tr>\n    <tr>\n      <th>565</th>\n      <td>1</td>\n      <td>20.13</td>\n      <td>28.25</td>\n      <td>131.20</td>\n      <td>1261.0</td>\n      <td>0.09780</td>\n      <td>0.10340</td>\n      <td>0.14400</td>\n      <td>0.09791</td>\n      <td>0.1752</td>\n      <td>...</td>\n      <td>23.690</td>\n      <td>38.25</td>\n      <td>155.00</td>\n      <td>1731.0</td>\n      <td>0.11660</td>\n      <td>0.19220</td>\n      <td>0.3215</td>\n      <td>0.1628</td>\n      <td>0.2572</td>\n      <td>0.06637</td>\n    </tr>\n    <tr>\n      <th>566</th>\n      <td>1</td>\n      <td>16.60</td>\n      <td>28.08</td>\n      <td>108.30</td>\n      <td>858.1</td>\n      <td>0.08455</td>\n      <td>0.10230</td>\n      <td>0.09251</td>\n      <td>0.05302</td>\n      <td>0.1590</td>\n      <td>...</td>\n      <td>18.980</td>\n      <td>34.12</td>\n      <td>126.70</td>\n      <td>1124.0</td>\n      <td>0.11390</td>\n      <td>0.30940</td>\n      <td>0.3403</td>\n      <td>0.1418</td>\n      <td>0.2218</td>\n      <td>0.07820</td>\n    </tr>\n    <tr>\n      <th>567</th>\n      <td>1</td>\n      <td>20.60</td>\n      <td>29.33</td>\n      <td>140.10</td>\n      <td>1265.0</td>\n      <td>0.11780</td>\n      <td>0.27700</td>\n      <td>0.35140</td>\n      <td>0.15200</td>\n      <td>0.2397</td>\n      <td>...</td>\n      <td>25.740</td>\n      <td>39.42</td>\n      <td>184.60</td>\n      <td>1821.0</td>\n      <td>0.16500</td>\n      <td>0.86810</td>\n      <td>0.9387</td>\n      <td>0.2650</td>\n      <td>0.4087</td>\n      <td>0.12400</td>\n    </tr>\n    <tr>\n      <th>568</th>\n      <td>0</td>\n      <td>7.76</td>\n      <td>24.54</td>\n      <td>47.92</td>\n      <td>181.0</td>\n      <td>0.05263</td>\n      <td>0.04362</td>\n      <td>0.00000</td>\n      <td>0.00000</td>\n      <td>0.1587</td>\n      <td>...</td>\n      <td>9.456</td>\n      <td>30.37</td>\n      <td>59.16</td>\n      <td>268.6</td>\n      <td>0.08996</td>\n      <td>0.06444</td>\n      <td>0.0000</td>\n      <td>0.0000</td>\n      <td>0.2871</td>\n      <td>0.07039</td>\n    </tr>\n  </tbody>\n</table>\n<p>569 rows × 31 columns</p>\n</div>",
      "text/plain": "     diagnosis  radius_mean  texture_mean  perimeter_mean  area_mean  \\\n0            1        17.99         10.38          122.80     1001.0   \n1            1        20.57         17.77          132.90     1326.0   \n2            1        19.69         21.25          130.00     1203.0   \n3            1        11.42         20.38           77.58      386.1   \n4            1        20.29         14.34          135.10     1297.0   \n..         ...          ...           ...             ...        ...   \n564          1        21.56         22.39          142.00     1479.0   \n565          1        20.13         28.25          131.20     1261.0   \n566          1        16.60         28.08          108.30      858.1   \n567          1        20.60         29.33          140.10     1265.0   \n568          0         7.76         24.54           47.92      181.0   \n\n     smoothness_mean  compactness_mean  concavity_mean  concave points_mean  \\\n0            0.11840           0.27760         0.30010              0.14710   \n1            0.08474           0.07864         0.08690              0.07017   \n2            0.10960           0.15990         0.19740              0.12790   \n3            0.14250           0.28390         0.24140              0.10520   \n4            0.10030           0.13280         0.19800              0.10430   \n..               ...               ...             ...                  ...   \n564          0.11100           0.11590         0.24390              0.13890   \n565          0.09780           0.10340         0.14400              0.09791   \n566          0.08455           0.10230         0.09251              0.05302   \n567          0.11780           0.27700         0.35140              0.15200   \n568          0.05263           0.04362         0.00000              0.00000   \n\n     symmetry_mean  ...  radius_worst  texture_worst  perimeter_worst  \\\n0           0.2419  ...        25.380          17.33           184.60   \n1           0.1812  ...        24.990          23.41           158.80   \n2           0.2069  ...        23.570          25.53           152.50   \n3           0.2597  ...        14.910          26.50            98.87   \n4           0.1809  ...        22.540          16.67           152.20   \n..             ...  ...           ...            ...              ...   \n564         0.1726  ...        25.450          26.40           166.10   \n565         0.1752  ...        23.690          38.25           155.00   \n566         0.1590  ...        18.980          34.12           126.70   \n567         0.2397  ...        25.740          39.42           184.60   \n568         0.1587  ...         9.456          30.37            59.16   \n\n     area_worst  smoothness_worst  compactness_worst  concavity_worst  \\\n0        2019.0           0.16220            0.66560           0.7119   \n1        1956.0           0.12380            0.18660           0.2416   \n2        1709.0           0.14440            0.42450           0.4504   \n3         567.7           0.20980            0.86630           0.6869   \n4        1575.0           0.13740            0.20500           0.4000   \n..          ...               ...                ...              ...   \n564      2027.0           0.14100            0.21130           0.4107   \n565      1731.0           0.11660            0.19220           0.3215   \n566      1124.0           0.11390            0.30940           0.3403   \n567      1821.0           0.16500            0.86810           0.9387   \n568       268.6           0.08996            0.06444           0.0000   \n\n     concave points_worst  symmetry_worst  fractal_dimension_worst  \n0                  0.2654          0.4601                  0.11890  \n1                  0.1860          0.2750                  0.08902  \n2                  0.2430          0.3613                  0.08758  \n3                  0.2575          0.6638                  0.17300  \n4                  0.1625          0.2364                  0.07678  \n..                    ...             ...                      ...  \n564                0.2216          0.2060                  0.07115  \n565                0.1628          0.2572                  0.06637  \n566                0.1418          0.2218                  0.07820  \n567                0.2650          0.4087                  0.12400  \n568                0.0000          0.2871                  0.07039  \n\n[569 rows x 31 columns]"
     },
     "execution_count": 3,
     "metadata": {},
     "output_type": "execute_result"
    }
   ],
   "source": [
    "\r\n",
    "data = pd.read_csv(\"breast cencer data\\data.csv\")\r\n",
    "M = 1 # malignant\r\n",
    "B = 0 # benign\r\n",
    "data.drop(['Unnamed: 32',\"id\"], axis=1, inplace=True)\r\n",
    "data.diagnosis = [M if each == \"M\" else B for each in data.diagnosis]\r\n",
    "gnb = GaussianNB()\r\n",
    "optional_c = [0.0001, 0.001, 0.01, 0.1, 1, 10, 100, 1000]\r\n",
    "vc = data[\"diagnosis\"].value_counts()\r\n",
    "scores = {}\r\n",
    "print(\"malignant count: \", vc[0], \" (\", np.around((vc[0]/569) *100, 1),\"%)\", \"\\nbenign count: \", vc[1], \" (\", np.around((vc[1]/569) *100, 1),\"%)\")\r\n",
    "rocs = {}\r\n",
    "data"
   ]
  },
  {
   "cell_type": "code",
   "execution_count": 4,
   "metadata": {},
   "outputs": [
    {
     "name": "stdout",
     "output_type": "stream",
     "text": [
      "x matrix shape:  (569, 30) \n",
      "y vector shape:  (569,)\n"
     ]
    },
    {
     "data": {
      "text/plain": "array([[ 1.09706398, -2.07333501,  1.26993369,  0.9843749 ,  1.56846633,\n         3.28351467,  2.65287398,  2.53247522,  2.21751501,  2.25574689,\n         2.48973393, -0.56526506,  2.83303087,  2.48757756, -0.21400165,\n         1.31686157,  0.72402616,  0.66081994,  1.14875667,  0.90708308,\n         1.88668963, -1.35929347,  2.30360062,  2.00123749,  1.30768627,\n         2.61666502,  2.10952635,  2.29607613,  2.75062224,  1.93701461]])"
     },
     "execution_count": 4,
     "metadata": {},
     "output_type": "execute_result"
    }
   ],
   "source": [
    "# split to x matrix and y vector\r\n",
    "y = data.pop(\"diagnosis\")\r\n",
    "x = data\r\n",
    "# normalization data\r\n",
    "scalar = StandardScaler()\r\n",
    "x = scalar.fit_transform(x)\r\n",
    "print(\"x matrix shape: \", x.shape, \"\\ny vector shape: \", y.shape)\r\n",
    "x[:1,]"
   ]
  },
  {
   "cell_type": "code",
   "execution_count": 5,
   "metadata": {},
   "outputs": [
    {
     "name": "stdout",
     "output_type": "stream",
     "text": [
      "x train:  (455, 30)\n",
      "x test:  (114, 30)\n",
      "y train:  (455,)\n",
      "y test:  (114,)\n"
     ]
    }
   ],
   "source": [
    "x_train, x_test, y_train, y_test = train_test_split(x, y, test_size=0.20, random_state=0)\r\n",
    "x_train_v, x_validation, y_train_v, y_validation = train_test_split(x_train, y_train, test_size=0.20, random_state=0)\r\n",
    "\r\n",
    "print(\"x train: \",x_train.shape)\r\n",
    "print(\"x test: \",x_test.shape)\r\n",
    "print(\"y train: \",y_train.shape)\r\n",
    "print(\"y test: \",y_test.shape)"
   ]
  },
  {
   "cell_type": "markdown",
   "metadata": {},
   "source": [
    "# Running the different machine learning algorithms"
   ]
  },
  {
   "cell_type": "markdown",
   "metadata": {},
   "source": [
    "## Gaussian Naive Bayes\r\n",
    "running gaussian naive base on the data"
   ]
  },
  {
   "cell_type": "code",
   "execution_count": 6,
   "metadata": {},
   "outputs": [
    {
     "name": "stdout",
     "output_type": "stream",
     "text": [
      "Number of mislabeled points out of a total 114 points : 11\n",
      "Accuracy Score: 0.9035087719298246\n",
      "FPR:  0.08955223880597014 \n",
      "TPR:  0.8936170212765957 \n",
      "AUC: 0.9020323912353128 \n",
      "\n"
     ]
    },
    {
     "data": {
      "image/png": "[encoded data removed]",
      "text/plain": "<Figure size 144x144 with 2 Axes>"
     },
     "metadata": {
      "needs_background": "light"
     },
     "output_type": "display_data"
    },
    {
     "data": {
      "image/png": "[encoded data removed]",
      "text/plain": "<Figure size 432x288 with 1 Axes>"
     },
     "metadata": {
      "needs_background": "light"
     },
     "output_type": "display_data"
    }
   ],
   "source": [
    "gnb.fit(x_train, y_train)\r\n",
    "gnbPrediction = gnb.predict(x_test)\r\n",
    "gnbScore= fbeta_score(y_test, gnbPrediction, average='micro', beta= 0.5)\r\n",
    "print(\"Number of mislabeled points out of a total %d points : %d\" % (x_test.shape[0], (y_test != gnbPrediction).sum()))\r\n",
    "scores['gnb'] = gnbScore\r\n",
    "\r\n",
    "confussionMatrix = metrics.confusion_matrix(y_test, gnbPrediction)\r\n",
    "plt.figure(figsize=(2,2))\r\n",
    "sns.heatmap(confussionMatrix, annot=True, fmt=\".3f\", linewidths=.5, square = True, cmap = 'Blues_r')\r\n",
    "plt.ylabel('Actual label')\r\n",
    "plt.xlabel('Predicted label')\r\n",
    "\r\n",
    "print('Accuracy Score: {0}'.format(gnbScore))\r\n",
    "\r\n",
    "fpr = (confussionMatrix[0][1]) / (confussionMatrix[0][1] + confussionMatrix[0][0])\r\n",
    "tpr = (confussionMatrix[1][1]) / (confussionMatrix[1][1] + confussionMatrix[1][0])\r\n",
    "auc = metrics.roc_auc_score(y_test, gnbPrediction)\r\n",
    "print('FPR: ', fpr, '\\nTPR: ', tpr, '\\nAUC:', auc, '\\n')\r\n",
    "rocs[\"gnb\"] = [fpr, tpr]\r\n",
    "metrics.plot_roc_curve(gnb, x_test, y_test)\r\n",
    "plt.show()"
   ]
  },
  {
   "cell_type": "markdown",
   "metadata": {},
   "source": [
    "## Logistic Regression\r\n",
    "start by finding optimal c to use in l2 regulation, find best classes weight, then run the algorithm and show score and confusion matrix and roc curve"
   ]
  },
  {
   "cell_type": "code",
   "execution_count": 7,
   "metadata": {},
   "outputs": [
    {
     "name": "stdout",
     "output_type": "stream",
     "text": [
      "The optimal c is:  0.1 , the score is:  0.9780219780219781\n"
     ]
    }
   ],
   "source": [
    "lr_best_score = 0\r\n",
    "lr_optimal_c = 0\r\n",
    "\r\n",
    "for c in optional_c:\r\n",
    "  lr = LogisticRegression(penalty='l2', C = c, max_iter = 1000,class_weight={0:0.38, 1: 0.61})\r\n",
    "  lr.fit(x_train_v, y_train_v)\r\n",
    "  lrPredictions = lr.predict(x_validation)\r\n",
    "  score = fbeta_score(y_validation, lrPredictions, average='micro', beta=0.5)\r\n",
    "\r\n",
    "  if lr_best_score < score:\r\n",
    "    lr_best_score = score\r\n",
    "    lr_optimal_c = c\r\n",
    "  # print( \"When C = \", c , \", the score is: \" , score, \"\\n\")\r\n",
    "print(\"The optimal c is: \", lr_optimal_c, \", the score is: \", lr_best_score)\r\n"
   ]
  },
  {
   "cell_type": "code",
   "execution_count": 8,
   "metadata": {},
   "outputs": [
    {
     "name": "stdout",
     "output_type": "stream",
     "text": [
      "the score for  [0.2, 0.8]  is  0.9571128503023202\n",
      "the score for  [0.3, 0.7]  is  0.967354787844066\n",
      "the score for  [0.4, 0.61]  is  0.978021978021978\n",
      "the score for  [0.1, 0.9]  is  0.9246285738394106\n",
      "the score for  [1, 2]  is  0.967354787844066\n",
      "the score for  [10, 100]  is  0.9286033244349781\n",
      "The optimal weight is: class 0 (benign) =  0.4 , and class 1 (malignant) =  0.61 , the score is:  0.978021978021978\n"
     ]
    }
   ],
   "source": [
    "weights = [[0.2, 0.8], [0.3, 0.7], [0.4, 0.61], [0.1, 0.9], [1,2], [10, 100] ]\r\n",
    "lr_best_score = 0\r\n",
    "lr_optimal_w = []\r\n",
    "\r\n",
    "for w in weights:\r\n",
    "  lr = LogisticRegression(penalty='l2', C = lr_optimal_c, max_iter = 1000,class_weight={0:w[0], 1:w[1]})\r\n",
    "  lr.fit(x_train_v, y_train_v)\r\n",
    "  lrPredictions = lr.predict(x_validation)\r\n",
    "  score = fbeta_score(y_validation, lrPredictions, average='weighted', beta= 0.3)\r\n",
    "  print(\"the score for \", w, \" is \", score)\r\n",
    "\r\n",
    "  if lr_best_score < score:\r\n",
    "    lr_best_score = score\r\n",
    "    lr_optimal_w = w.copy()\r\n",
    "    \r\n",
    "print(\"The optimal weight is: class 0 (benign) = \", lr_optimal_w[0] , \", and class 1 (malignant) = \", lr_optimal_w[1] , \", the score is: \", lr_best_score)"
   ]
  },
  {
   "cell_type": "code",
   "execution_count": 9,
   "metadata": {},
   "outputs": [
    {
     "name": "stdout",
     "output_type": "stream",
     "text": [
      "Number of mislabeled points out of a total 114 points : 3\n",
      "Accuracy Score: 0.9736882431339813 \n",
      "\n",
      "FPR:  0.014925373134328358 \n",
      "TPR:  0.9574468085106383 \n",
      "AUC: 0.971260717688155 \n",
      "\n"
     ]
    },
    {
     "data": {
      "image/png": "[encoded data removed]",
      "text/plain": "<Figure size 144x144 with 2 Axes>"
     },
     "metadata": {
      "needs_background": "light"
     },
     "output_type": "display_data"
    },
    {
     "data": {
      "image/png": "[encoded data removed]",
      "text/plain": "<Figure size 432x288 with 1 Axes>"
     },
     "metadata": {
      "needs_background": "light"
     },
     "output_type": "display_data"
    }
   ],
   "source": [
    "logisticRegr = LogisticRegression(penalty='l2', C = lr_optimal_c, max_iter = 3000, class_weight={0:lr_optimal_w[0], 1: lr_optimal_w[1]})\r\n",
    "logisticRegr.fit(x_train, y_train) # training the model on the training data\r\n",
    "lrPredictions = logisticRegr.predict(x_test)\r\n",
    "lrScore = fbeta_score(y_test, lrPredictions, average='weighted', beta=0.5)\r\n",
    "scores[\"lr\"] = lrScore\r\n",
    "\r\n",
    "print(\"Number of mislabeled points out of a total %d points : %d\" % (x_test.shape[0], (y_test != lrPredictions).sum()))\r\n",
    "\r\n",
    "confussionMatrix = metrics.confusion_matrix(y_test, lrPredictions)\r\n",
    "plt.figure(figsize=(2,2))\r\n",
    "sns.heatmap(confussionMatrix, annot=True, fmt=\".3f\", linewidths=.5, square = True, cmap = 'Blues_r')\r\n",
    "plt.ylabel('Actual label')\r\n",
    "plt.xlabel('Predicted label')\r\n",
    "print('Accuracy Score: {0}'.format(lrScore), \"\\n\")\r\n",
    "\r\n",
    "# fpr = (confussionMatrix[0][1]) / (confussionMatrix[0][1] + confussionMatrix[0][0])\r\n",
    "# tpr = (confussionMatrix[1][1]) / (confussionMatrix[1][1] + confussionMatrix[1][0])\r\n",
    "fpr, tpr, thresh = metrics.roc_curve(y_test, lrPredictions)\r\n",
    "auc = metrics.roc_auc_score(y_test, lrPredictions)\r\n",
    "rocs[\"lr\"] = [fpr, tpr]\r\n",
    "print('FPR: ', fpr[1], '\\nTPR: ', tpr[1], '\\nAUC:', auc, '\\n')\r\n",
    "metrics.plot_roc_curve(logisticRegr, x_test, y_test)\r\n",
    "plt.show()"
   ]
  },
  {
   "cell_type": "markdown",
   "metadata": {},
   "source": [
    "## AdaBoost Classifier\r\n",
    "start by finding the optimal N estimator and learning rate, then run the algorithm and show score and confusion matrix"
   ]
  },
  {
   "cell_type": "code",
   "execution_count": 10,
   "metadata": {},
   "outputs": [
    {
     "name": "stdout",
     "output_type": "stream",
     "text": [
      "The optimal e is:  40 , the score is:  0.967032967032967\n"
     ]
    }
   ],
   "source": [
    "adb_best_score = 0\r\n",
    "adb_optimal_e = 0\r\n",
    "optional_e = [10, 30, 40, 50, 100]\r\n",
    "\r\n",
    "for e in optional_e:\r\n",
    "    adb = AdaBoostClassifier(n_estimators=e, learning_rate=1, random_state=0)\r\n",
    "    adb.fit(x_train_v, y_train_v)\r\n",
    "    adbPredict = adb.predict(x_validation)\r\n",
    "    adb_score = fbeta_score(y_validation, adbPredict, average='micro', beta=0.01)\r\n",
    "\r\n",
    "    if adb_best_score < adb_score:\r\n",
    "        adb_best_score = adb_score\r\n",
    "        adb_optimal_e = e\r\n",
    "print(\"The optimal e is: \", adb_optimal_e, \", the score is: \", adb_best_score)"
   ]
  },
  {
   "cell_type": "code",
   "execution_count": 11,
   "metadata": {},
   "outputs": [
    {
     "name": "stdout",
     "output_type": "stream",
     "text": [
      "The optimal r is:  1 , the score is:  0.967032967032967\n"
     ]
    }
   ],
   "source": [
    "adb_best_score = 0\r\n",
    "adb_optimal_r = 0\r\n",
    "optional_r = [0.0001, 0.001, 0.01, 0.1, 1, 10]\r\n",
    "\r\n",
    "for r in optional_r:\r\n",
    "    adb = AdaBoostClassifier(n_estimators=adb_optimal_e, learning_rate=r, random_state=0)\r\n",
    "    adb.fit(x_train_v, y_train_v)\r\n",
    "    adbPredict = adb.predict(x_validation)\r\n",
    "    adb_score = fbeta_score(y_validation, adbPredict, average='micro', beta=0.01)\r\n",
    "\r\n",
    "    if adb_best_score < adb_score:\r\n",
    "        adb_best_score = adb_score\r\n",
    "        adb_optimal_r = r\r\n",
    "  # print( \"When C = \", c , \", the score is: \" , score, \"\\n\")\r\n",
    "print(\"The optimal r is: \", adb_optimal_r, \", the score is: \", adb_best_score)"
   ]
  },
  {
   "cell_type": "code",
   "execution_count": 12,
   "metadata": {},
   "outputs": [
    {
     "name": "stdout",
     "output_type": "stream",
     "text": [
      "Number of mislabeled points out of a total 114 points : 4\n",
      "Accuracy Score: 0.9649122807017544\n",
      "FPR:  0.029850746268656716 \n",
      "TPR:  0.9574468085106383 \n",
      "AUC: 0.9637980311209908 \n",
      "\n"
     ]
    },
    {
     "data": {
      "image/png": "[encoded data removed]",
      "text/plain": "<Figure size 144x144 with 2 Axes>"
     },
     "metadata": {
      "needs_background": "light"
     },
     "output_type": "display_data"
    },
    {
     "data": {
      "image/png": "[encoded data removed]",
      "text/plain": "<Figure size 432x288 with 1 Axes>"
     },
     "metadata": {
      "needs_background": "light"
     },
     "output_type": "display_data"
    }
   ],
   "source": [
    "adb = AdaBoostClassifier(n_estimators=100, random_state=0, learning_rate= adb_optimal_r)\r\n",
    "adb.fit(x_train, y_train)\r\n",
    "adbPredict = adb.predict(x_test)\r\n",
    "adbScore = fbeta_score(y_test, adbPredict, average='weighted', beta=0.01)\r\n",
    "scores['adb'] = adbScore\r\n",
    "\r\n",
    "print(\"Number of mislabeled points out of a total %d points : %d\" % (x_test.shape[0], (y_test != adbPredict).sum()))\r\n",
    "\r\n",
    "confussionMatrix = metrics.confusion_matrix(y_test, adbPredict)\r\n",
    "plt.figure(figsize=(2,2))\r\n",
    "sns.heatmap(confussionMatrix, annot=True, fmt=\".2f\", linewidths=.5, square = True, cmap = 'Blues_r')\r\n",
    "plt.ylabel('Actual label')\r\n",
    "plt.xlabel('Predicted label')\r\n",
    "print('Accuracy Score: {0}'.format(adbScore))\r\n",
    "\r\n",
    "fpr = (confussionMatrix[0][1]) / (confussionMatrix[0][1] + confussionMatrix[0][0])\r\n",
    "tpr = (confussionMatrix[1][1]) / (confussionMatrix[1][1] + confussionMatrix[1][0])\r\n",
    "auc = metrics.roc_auc_score(y_test, adbPredict)\r\n",
    "rocs[\"adb\"] = [fpr, tpr]\r\n",
    "\r\n",
    "print('FPR: ', fpr, '\\nTPR: ', tpr, '\\nAUC:', auc, '\\n')\r\n",
    "metrics.plot_roc_curve(adb, x_test, y_test)\r\n",
    "plt.show()\r\n"
   ]
  },
  {
   "cell_type": "markdown",
   "metadata": {},
   "source": [
    "## Linear Support Vector Machine"
   ]
  },
  {
   "cell_type": "code",
   "execution_count": 13,
   "metadata": {},
   "outputs": [
    {
     "name": "stdout",
     "output_type": "stream",
     "text": [
      "The optimal c is:  0.01 , the score is:  0.9780219780219781\n"
     ]
    }
   ],
   "source": [
    "lsvc_best_score = 0\r\n",
    "lsvc_optimal_c = 0\r\n",
    "\r\n",
    "for c in optional_c:\r\n",
    "  lsvc = LinearSVC(C= c, penalty=\"l2\",loss=\"hinge\", dual=True, multi_class=\"ovr\", max_iter= 200000)\r\n",
    "  lsvc.fit(x_train_v, y_train_v)\r\n",
    "  lsvcPredictions = lsvc.predict(x_validation)\r\n",
    "  lsvc_score = fbeta_score(y_validation, lsvcPredictions, average='micro', beta=0.5)\r\n",
    "\r\n",
    "  if lsvc_best_score < lsvc_score:\r\n",
    "     lsvc_best_score = lsvc_score\r\n",
    "     lsvc_optimal_c = c\r\n",
    "  # print( \"When C = \", c , \", the score is: \" , score, \"\\n\")\r\n",
    "print(\"The optimal c is: \", lsvc_optimal_c, \", the score is: \", lsvc_best_score)"
   ]
  },
  {
   "cell_type": "code",
   "execution_count": 14,
   "metadata": {},
   "outputs": [
    {
     "name": "stdout",
     "output_type": "stream",
     "text": [
      "Number of mislabeled points out of a total 114 points : 4\n",
      "Accuracy Score: 0.9650114227400741\n",
      "FPR:  0.014925373134328358 \n",
      "TPR:  0.9361702127659575 \n",
      "AUC: 0.9606224198158145 \n",
      "\n"
     ]
    },
    {
     "data": {
      "image/png": "[encoded data removed]",
      "text/plain": "<Figure size 144x144 with 2 Axes>"
     },
     "metadata": {
      "needs_background": "light"
     },
     "output_type": "display_data"
    },
    {
     "data": {
      "image/png": "[encoded data removed]",
      "text/plain": "<Figure size 432x288 with 1 Axes>"
     },
     "metadata": {
      "needs_background": "light"
     },
     "output_type": "display_data"
    }
   ],
   "source": [
    "lsvc = LinearSVC(C= lsvc_optimal_c, penalty=\"l2\",loss=\"hinge\", dual=True, multi_class=\"ovr\")\r\n",
    "lsvc.fit(x_train, y_train)\r\n",
    "lsvcPredict = lsvc.predict(x_test)\r\n",
    "lsvcScore = fbeta_score(y_test, lsvcPredict, average='weighted', beta=0.5)\r\n",
    "scores[\"lsvc\"] = lsvcScore\r\n",
    "print(\"Number of mislabeled points out of a total %d points : %d\" % (x_test.shape[0], (y_test != lsvcPredict).sum()))\r\n",
    "\r\n",
    "confussionMatrix = metrics.confusion_matrix(y_test, lsvcPredict)\r\n",
    "plt.figure(figsize=(2,2))\r\n",
    "sns.heatmap(confussionMatrix, annot=True, fmt=\".2f\", linewidths=.5, square = True, cmap = 'Blues_r')\r\n",
    "plt.ylabel('Actual label')\r\n",
    "plt.xlabel('Predicted label')\r\n",
    "print('Accuracy Score: {0}'.format(lsvcScore))\r\n",
    "\r\n",
    "fpr = (confussionMatrix[0][1]) / (confussionMatrix[0][1] + confussionMatrix[0][0])\r\n",
    "tpr = (confussionMatrix[1][1]) / (confussionMatrix[1][1] + confussionMatrix[1][0])\r\n",
    "auc = metrics.roc_auc_score(y_test, lsvcPredict)\r\n",
    "rocs[\"lsvc\"] = [fpr, tpr]\r\n",
    "print('FPR: ', fpr, '\\nTPR: ', tpr, '\\nAUC:', auc, '\\n')\r\n",
    "metrics.plot_roc_curve(lsvc, x_test, y_test)\r\n",
    "plt.show()\r\n"
   ]
  },
  {
   "cell_type": "markdown",
   "metadata": {},
   "source": [
    "# Feature selection"
   ]
  },
  {
   "cell_type": "code",
   "execution_count": 15,
   "metadata": {},
   "outputs": [
    {
     "name": "stdout",
     "output_type": "stream",
     "text": [
      "importance order: [22 23 20  7 27  2  6  0  3 13 26 12 10 25  5 17 21 16 24  1 28  4 15 29\n",
      "  8 19 18 14  9 11]\n"
     ]
    },
    {
     "data": {
      "image/png": "[encoded data removed]",
      "text/plain": "<Figure size 720x288 with 1 Axes>"
     },
     "metadata": {
      "needs_background": "light"
     },
     "output_type": "display_data"
    }
   ],
   "source": [
    "mi = mutual_info_classif(x,y)\r\n",
    "features = np.arange(0, 30, 1)\r\n",
    "plt.figure(figsize=(10, 4))\r\n",
    "\r\n",
    "plt.bar(features,mi)\r\n",
    "plt.xticks(features)\r\n",
    "plt.xlabel(\"feature number\")\r\n",
    "plt.ylabel(\"MI feature score\")\r\n",
    "\r\n",
    "important_MI =np.flip(np.argsort(mi))\r\n",
    "print(\"importance order:\", important_MI)\r\n",
    "plt.show()\r\n"
   ]
  },
  {
   "cell_type": "markdown",
   "metadata": {},
   "source": [
    "from the graph we can easily see the important features according to mutual information algorithm"
   ]
  },
  {
   "cell_type": "markdown",
   "metadata": {},
   "source": [
    "### Logistic Regression"
   ]
  },
  {
   "cell_type": "code",
   "execution_count": 16,
   "metadata": {},
   "outputs": [
    {
     "name": "stdout",
     "output_type": "stream",
     "text": [
      "optimal number of fetures: 21\n",
      "According to MI algorithm the  21   most importent features are:  [ 0  1  2  3  5  6  7 10 12 13 16 17 20 21 22 23 24 25 26 27 28]\n"
     ]
    }
   ],
   "source": [
    "#find optimal k\r\n",
    "lr_optimal_k = 0\r\n",
    "lr_best_score = 0\r\n",
    "for i in range (1,30):\r\n",
    "    mi_x_new = SelectKBest(mutual_info_classif, k=i).fit_transform(x, y)\r\n",
    "    x_train_new, x_test_new, y_train_new, y_test_new = train_test_split(mi_x_new, y, test_size=0.20, random_state=0)\r\n",
    "\r\n",
    "    logisticRegr.fit(x_train_new, y_train_new) # training the model on the training data\r\n",
    "    lrPredictions = logisticRegr.predict(x_test_new)\r\n",
    "    lrScore = fbeta_score(y_test, lrPredictions, average='weighted', beta=0.5)\r\n",
    "    \r\n",
    "    if lrScore > lr_best_score:\r\n",
    "        lr_best_score = lrScore\r\n",
    "        lr_optimal_k = i\r\n",
    "print(\"optimal number of fetures:\" ,lr_optimal_k)\r\n",
    "mi_x_new = SelectKBest(mutual_info_classif, k=lr_optimal_k).fit_transform(x, y)\r\n",
    "print(\"According to MI algorithm the \",lr_optimal_k, \"  most importent features are: \",np.sort(important_MI[:lr_optimal_k]))"
   ]
  },
  {
   "cell_type": "code",
   "execution_count": 17,
   "metadata": {},
   "outputs": [
    {
     "name": "stdout",
     "output_type": "stream",
     "text": [
      "Number of mislabeled points out of a total 114 points : 2\n",
      "Accuracy Score: 0.9824561403508771\n"
     ]
    },
    {
     "data": {
      "image/png": "[encoded data removed]",
      "text/plain": "<Figure size 144x144 with 2 Axes>"
     },
     "metadata": {
      "needs_background": "light"
     },
     "output_type": "display_data"
    }
   ],
   "source": [
    "x_train_new, x_test_new, y_train_new, y_test_new = train_test_split(mi_x_new, y, test_size=0.20, random_state=0)\r\n",
    "\r\n",
    "logisticRegr.fit(x_train_new, y_train_new) # training the model on the training data\r\n",
    "lrPredictions = logisticRegr.predict(x_test_new)\r\n",
    "lrScore = fbeta_score(y_test, lrPredictions, average='weighted', beta=0.1)\r\n",
    "\r\n",
    "print(\"Number of mislabeled points out of a total %d points : %d\" % (x_test_new.shape[0], (y_test_new != lrPredictions).sum()))\r\n",
    "\r\n",
    "confussionMatrix = metrics.confusion_matrix(y_test_new, lrPredictions)\r\n",
    "plt.figure(figsize=(2,2))\r\n",
    "sns.heatmap(confussionMatrix, annot=True, fmt=\".3f\", linewidths=.5, square = True, cmap = 'Blues_r')\r\n",
    "plt.ylabel('Actual label')\r\n",
    "plt.xlabel('Predicted label')\r\n",
    "scores['lr_mi'] = lrScore\r\n",
    "print('Accuracy Score: {0}'.format(lrScore))"
   ]
  },
  {
   "cell_type": "markdown",
   "metadata": {},
   "source": [
    "## try feature selection from model and run the model on the new data"
   ]
  },
  {
   "cell_type": "code",
   "execution_count": 18,
   "metadata": {},
   "outputs": [
    {
     "name": "stdout",
     "output_type": "stream",
     "text": [
      "When using Logistic Regression algorithm the most importent features are:  [0, 1, 2, 3, 6, 7, 10, 12, 13, 20, 21, 22, 23, 24, 26, 27, 28]\n"
     ]
    }
   ],
   "source": [
    "\"\"\"\r\n",
    "LogisticRegression\r\n",
    "\"\"\"\r\n",
    "\r\n",
    "logisticRegr.fit(x_train, y_train)\r\n",
    "model = SelectFromModel(logisticRegr, prefit=True)\r\n",
    "lr_x_new = model.transform(x)\r\n",
    "\r\n",
    "feature_index = 0\r\n",
    "modle_features = []\r\n",
    "for col in x[0]:\r\n",
    "    if col in lr_x_new:\r\n",
    "        modle_features.append(feature_index)\r\n",
    "    feature_index+=1\r\n",
    "print(\"When using Logistic Regression algorithm the most importent features are: \", modle_features )"
   ]
  },
  {
   "cell_type": "code",
   "execution_count": 19,
   "metadata": {},
   "outputs": [
    {
     "name": "stdout",
     "output_type": "stream",
     "text": [
      "Number of mislabeled points out of a total 114 points : 2\n",
      "Accuracy Score: 0.9824561403508771\n",
      "FPR:  0.014925373134328358 \n",
      "TPR:  0.9787234042553191 \n",
      "AUC: 0.9818990155604953 \n",
      "\n"
     ]
    },
    {
     "data": {
      "image/png": "[encoded data removed]",
      "text/plain": "<Figure size 144x144 with 2 Axes>"
     },
     "metadata": {
      "needs_background": "light"
     },
     "output_type": "display_data"
    },
    {
     "data": {
      "image/png": "[encoded data removed]",
      "text/plain": "<Figure size 432x288 with 1 Axes>"
     },
     "metadata": {
      "needs_background": "light"
     },
     "output_type": "display_data"
    }
   ],
   "source": [
    "x_train_new, x_test_new, y_train_new, y_test_new = train_test_split(lr_x_new, y, test_size=0.20, random_state=0)\r\n",
    "\r\n",
    "logisticRegr.fit(x_train_new, y_train_new)\r\n",
    "lrPredict = logisticRegr.predict(x_test_new)\r\n",
    "lrcScore = fbeta_score(y_test_new, lrPredict, average='weighted', beta=0.5)\r\n",
    "\r\n",
    "print(\"Number of mislabeled points out of a total %d points : %d\" % (x_test_new.shape[0], (y_test_new != lrPredict).sum()))\r\n",
    "\r\n",
    "confussionMatrix = metrics.confusion_matrix(y_test_new, lrPredict)\r\n",
    "plt.figure(figsize=(2,2))\r\n",
    "sns.heatmap(confussionMatrix, annot=True, fmt=\".3f\", linewidths=.5, square = True, cmap = 'Blues_r')\r\n",
    "plt.ylabel('Actual label')\r\n",
    "plt.xlabel('Predicted label')\r\n",
    "print('Accuracy Score: {0}'.format(lrcScore))\r\n",
    "\r\n",
    "fpr = (confussionMatrix[0][1]) / (confussionMatrix[0][1] + confussionMatrix[0][0])\r\n",
    "tpr = (confussionMatrix[1][1]) / (confussionMatrix[1][1] + confussionMatrix[1][0])\r\n",
    "auc = metrics.roc_auc_score(y_test_new, lrPredict)\r\n",
    "scores[\"lr_model\"] = lrScore\r\n",
    "print('FPR: ', fpr, '\\nTPR: ', tpr, '\\nAUC:', auc, '\\n')\r\n",
    "metrics.plot_roc_curve(logisticRegr, x_test_new, y_test_new)\r\n",
    "plt.show()"
   ]
  },
  {
   "cell_type": "code",
   "execution_count": 20,
   "metadata": {},
   "outputs": [
    {
     "name": "stdout",
     "output_type": "stream",
     "text": [
      "When using adaboost algorithm the most importent features are:  [1, 4, 5, 7, 11, 12, 13, 15, 18, 19, 21, 22, 23, 26, 27]\n"
     ]
    }
   ],
   "source": [
    "\"\"\"\r\n",
    "adaboost\r\n",
    "\"\"\"\r\n",
    "adb = AdaBoostClassifier(n_estimators=100, random_state=0, learning_rate= adb_optimal_r)\r\n",
    "adb.fit(x_train, y_train)\r\n",
    "model = SelectFromModel(adb, prefit=True)\r\n",
    "adb_x_new = model.transform(x)\r\n",
    "\r\n",
    "feature_index = 0\r\n",
    "modle_features = []\r\n",
    "for col in x[0]:\r\n",
    "    if col in adb_x_new:\r\n",
    "        modle_features.append(feature_index)\r\n",
    "    feature_index+=1\r\n",
    "print(\"When using adaboost algorithm the most importent features are: \", modle_features )"
   ]
  },
  {
   "cell_type": "code",
   "execution_count": 21,
   "metadata": {},
   "outputs": [
    {
     "name": "stdout",
     "output_type": "stream",
     "text": [
      "Number of mislabeled points out of a total 114 points : 4\n",
      "Accuracy Score: 0.9649122807017544\n",
      "FPR:  0.029850746268656716 \n",
      "TPR:  0.9574468085106383 \n",
      "AUC: 0.9637980311209908 \n",
      "\n"
     ]
    },
    {
     "data": {
      "image/png": "[encoded data removed]",
      "text/plain": "<Figure size 144x144 with 2 Axes>"
     },
     "metadata": {
      "needs_background": "light"
     },
     "output_type": "display_data"
    },
    {
     "data": {
      "image/png": "[encoded data removed]",
      "text/plain": "<Figure size 432x288 with 1 Axes>"
     },
     "metadata": {
      "needs_background": "light"
     },
     "output_type": "display_data"
    }
   ],
   "source": [
    "x_train_new, x_test_new, y_train_new, y_test_new = train_test_split(adb_x_new, y, test_size=0.20, random_state=0)\r\n",
    "\r\n",
    "\r\n",
    "adb = AdaBoostClassifier(n_estimators=100, random_state=0, learning_rate= adb_optimal_r)\r\n",
    "adb.fit(x_train_new, y_train_new)\r\n",
    "adbPredict = adb.predict(x_test_new)\r\n",
    "adbScore = fbeta_score(y_test_new, adbPredict, average='weighted', beta=0.01)\r\n",
    "\r\n",
    "print(\"Number of mislabeled points out of a total %d points : %d\" % (x_test_new.shape[0], (y_test_new != adbPredict).sum()))\r\n",
    "\r\n",
    "confussionMatrix = metrics.confusion_matrix(y_test_new, adbPredict)\r\n",
    "plt.figure(figsize=(2,2))\r\n",
    "sns.heatmap(confussionMatrix, annot=True, fmt=\".2f\", linewidths=.5, square = True, cmap = 'Blues_r')\r\n",
    "plt.ylabel('Actual label')\r\n",
    "plt.xlabel('Predicted label')\r\n",
    "print('Accuracy Score: {0}'.format(adbScore))\r\n",
    "\r\n",
    "fpr = (confussionMatrix[0][1]) / (confussionMatrix[0][1] + confussionMatrix[0][0])\r\n",
    "tpr = (confussionMatrix[1][1]) / (confussionMatrix[1][1] + confussionMatrix[1][0])\r\n",
    "scores[\"adb_model\"] = adbScore\r\n",
    "auc = metrics.roc_auc_score(y_test_new, adbPredict)\r\n",
    "print('FPR: ', fpr, '\\nTPR: ', tpr, '\\nAUC:', auc, '\\n')\r\n",
    "metrics.plot_roc_curve(adb, x_test_new, y_test_new)\r\n",
    "plt.show()\r\n"
   ]
  },
  {
   "cell_type": "markdown",
   "metadata": {},
   "source": [
    "# Summary"
   ]
  },
  {
   "cell_type": "code",
   "execution_count": 22,
   "metadata": {},
   "outputs": [
    {
     "name": "stdout",
     "output_type": "stream",
     "text": [
      "the algorithm with the best score: lr_mi\n"
     ]
    },
    {
     "data": {
      "image/png": "[encoded data removed]",
      "text/plain": "<Figure size 504x360 with 1 Axes>"
     },
     "metadata": {
      "needs_background": "light"
     },
     "output_type": "display_data"
    }
   ],
   "source": [
    "#scores\r\n",
    "plt.figure(figsize=(7, 5))\r\n",
    "plt.bar(scores.keys(), scores.values())\r\n",
    "for k in scores.keys():\r\n",
    "    plt.annotate(str(np.round(scores[k], 4)), xy=(k, scores[k]), ha='center', va='bottom')\r\n",
    "print(\"the algorithm with the best score:\" , max(scores, key=scores.get))"
   ]
  }
 ],
 "metadata": {
  "kernelspec": {
   "display_name": "Python 3.8.5 64-bit ('base': conda)",
   "metadata": {
    "interpreter": {
     "hash": "3e88cb0c7068d583d91b12bd8c0e7333fe1e49706f5f6b346f7f0f681a4cb0e1"
    }
   },
   "name": "python3"
  },
  "language_info": {
   "codemirror_mode": {
    "name": "ipython",
    "version": 3
   },
   "file_extension": ".py",
   "mimetype": "text/x-python",
   "name": "python",
   "nbconvert_exporter": "python",
   "pygments_lexer": "ipython3",
   "version": "3.8.5"
  },
  "orig_nbformat": 2
 },
 "nbformat": 4,
 "nbformat_minor": 2
}